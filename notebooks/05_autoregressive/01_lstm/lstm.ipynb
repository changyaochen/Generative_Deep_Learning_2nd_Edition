{
 "cells": [
  {
   "cell_type": "markdown",
   "id": "b076bd1a-b236-4fbc-953d-8295b25122ae",
   "metadata": {},
   "source": [
    "# 🥙 LSTM on Recipe Data"
   ]
  },
  {
   "cell_type": "markdown",
   "id": "658a95da-9645-4bcf-bd9d-4b95a4b6f582",
   "metadata": {},
   "source": [
    "In this notebook, we'll walk through the steps required to train your own LSTM on the recipes dataset"
   ]
  },
  {
   "cell_type": "code",
   "execution_count": 1,
   "id": "4e0d56cc-4773-4029-97d8-26f882ba79c9",
   "metadata": {},
   "outputs": [],
   "source": [
    "%load_ext autoreload\n",
    "%autoreload 2\n",
    "\n",
    "import numpy as np\n",
    "import json\n",
    "import re\n",
    "import string\n",
    "\n",
    "import tensorflow as tf\n",
    "from tensorflow.keras import layers, models, callbacks, losses"
   ]
  },
  {
   "cell_type": "markdown",
   "id": "339e6268-ebd7-4feb-86db-1fe7abccdbe5",
   "metadata": {},
   "source": [
    "## 0. Parameters <a name=\"parameters\"></a>"
   ]
  },
  {
   "cell_type": "code",
   "execution_count": 2,
   "id": "2d8352af-343e-4c2e-8c91-95f8bac1c8a1",
   "metadata": {},
   "outputs": [],
   "source": [
    "VOCAB_SIZE = 10_000\n",
    "MAX_LEN = 200\n",
    "EMBEDDING_DIM = 100\n",
    "N_UNITS = 128\n",
    "VALIDATION_SPLIT = 0.2\n",
    "SEED = 42\n",
    "LOAD_MODEL = False\n",
    "BATCH_SIZE = 32\n",
    "EPOCHS = 25"
   ]
  },
  {
   "cell_type": "markdown",
   "id": "b7716fac-0010-49b0-b98e-53be2259edde",
   "metadata": {},
   "source": [
    "## 1. Load the data <a name=\"load\"></a>"
   ]
  },
  {
   "cell_type": "code",
   "execution_count": 3,
   "id": "93cf6b0f-9667-4146-8911-763a8a2925d3",
   "metadata": {
    "tags": []
   },
   "outputs": [],
   "source": [
    "# Load the full dataset\n",
    "with open(\"/app/data/epirecipes/full_format_recipes.json\") as json_data:\n",
    "    recipe_data = json.load(json_data)"
   ]
  },
  {
   "cell_type": "code",
   "execution_count": 4,
   "id": "23a74eca-f1b7-4a46-9a1f-b5806a4ed361",
   "metadata": {
    "tags": []
   },
   "outputs": [],
   "source": [
    "# Filter the dataset\n",
    "filtered_data = [\n",
    "    \"Recipe for \" + x[\"title\"] + \" | \" + \" \".join(x[\"directions\"])\n",
    "    for x in recipe_data\n",
    "    if \"title\" in x\n",
    "    and x[\"title\"] is not None\n",
    "    and \"directions\" in x\n",
    "    and x[\"directions\"] is not None\n",
    "]"
   ]
  },
  {
   "cell_type": "code",
   "execution_count": 5,
   "id": "389c20de-0422-4c48-a7b4-6ee12a7bf0e2",
   "metadata": {
    "tags": []
   },
   "outputs": [
    {
     "name": "stdout",
     "output_type": "stream",
     "text": [
      "20111 recipes loaded\n"
     ]
    }
   ],
   "source": [
    "# Count the recipes\n",
    "n_recipes = len(filtered_data)\n",
    "print(f\"{n_recipes} recipes loaded\")"
   ]
  },
  {
   "cell_type": "code",
   "execution_count": 6,
   "id": "1b2e3cf7-e416-460e-874a-0dd9637bca36",
   "metadata": {},
   "outputs": [
    {
     "name": "stdout",
     "output_type": "stream",
     "text": [
      "Recipe for Ham Persillade with Mustard Potato Salad and Mashed Peas  | Chop enough parsley leaves to measure 1 tablespoon; reserve. Chop remaining leaves and stems and simmer with broth and garlic in a small saucepan, covered, 5 minutes. Meanwhile, sprinkle gelatin over water in a medium bowl and let soften 1 minute. Strain broth through a fine-mesh sieve into bowl with gelatin and stir to dissolve. Season with salt and pepper. Set bowl in an ice bath and cool to room temperature, stirring. Toss ham with reserved parsley and divide among jars. Pour gelatin on top and chill until set, at least 1 hour. Whisk together mayonnaise, mustard, vinegar, 1/4 teaspoon salt, and 1/4 teaspoon pepper in a large bowl. Stir in celery, cornichons, and potatoes. Pulse peas with marjoram, oil, 1/2 teaspoon pepper, and 1/4 teaspoon salt in a food processor to a coarse mash. Layer peas, then potato salad, over ham.\n"
     ]
    }
   ],
   "source": [
    "example = filtered_data[9]\n",
    "print(example)"
   ]
  },
  {
   "cell_type": "markdown",
   "id": "3f871aaf-d873-41c7-8946-e4eef7ac17c1",
   "metadata": {},
   "source": [
    "## 2. Tokenise the data"
   ]
  },
  {
   "cell_type": "code",
   "execution_count": 7,
   "id": "5b2064fb-5dcc-4657-b470-0928d10e2ddc",
   "metadata": {
    "tags": []
   },
   "outputs": [],
   "source": [
    "# Pad the punctuation, to treat them as separate 'words'\n",
    "def pad_punctuation(s):\n",
    "    s = re.sub(f\"([{string.punctuation}])\", r\" \\1 \", s)\n",
    "    s = re.sub(\" +\", \" \", s)\n",
    "    return s\n",
    "\n",
    "\n",
    "text_data = [pad_punctuation(x) for x in filtered_data]"
   ]
  },
  {
   "cell_type": "code",
   "execution_count": 8,
   "id": "b87d7c65-9a46-492a-a5c0-a043b0d252f3",
   "metadata": {},
   "outputs": [
    {
     "data": {
      "text/plain": [
       "'Recipe for Ham Persillade with Mustard Potato Salad and Mashed Peas | Chop enough parsley leaves to measure 1 tablespoon ; reserve . Chop remaining leaves and stems and simmer with broth and garlic in a small saucepan , covered , 5 minutes . Meanwhile , sprinkle gelatin over water in a medium bowl and let soften 1 minute . Strain broth through a fine - mesh sieve into bowl with gelatin and stir to dissolve . Season with salt and pepper . Set bowl in an ice bath and cool to room temperature , stirring . Toss ham with reserved parsley and divide among jars . Pour gelatin on top and chill until set , at least 1 hour . Whisk together mayonnaise , mustard , vinegar , 1 / 4 teaspoon salt , and 1 / 4 teaspoon pepper in a large bowl . Stir in celery , cornichons , and potatoes . Pulse peas with marjoram , oil , 1 / 2 teaspoon pepper , and 1 / 4 teaspoon salt in a food processor to a coarse mash . Layer peas , then potato salad , over ham . '"
      ]
     },
     "execution_count": 8,
     "metadata": {},
     "output_type": "execute_result"
    }
   ],
   "source": [
    "# Display an example of a recipe\n",
    "example_data = text_data[9]\n",
    "example_data"
   ]
  },
  {
   "cell_type": "code",
   "execution_count": 9,
   "id": "9834f916-b21a-4104-acc9-f28d3bd7a8c1",
   "metadata": {
    "tags": []
   },
   "outputs": [],
   "source": [
    "# Convert to a Tensorflow Dataset\n",
    "text_ds = (\n",
    "    tf.data.Dataset.from_tensor_slices(text_data)\n",
    "    .batch(BATCH_SIZE)\n",
    "    .shuffle(1000)\n",
    ")"
   ]
  },
  {
   "cell_type": "code",
   "execution_count": 10,
   "id": "884c0bcb-0807-45a1-8f7e-a32f2c6fa4de",
   "metadata": {},
   "outputs": [],
   "source": [
    "# Create a vectorisation layer\n",
    "vectorize_layer = layers.TextVectorization(\n",
    "    standardize=\"lower\",\n",
    "    max_tokens=VOCAB_SIZE,\n",
    "    output_mode=\"int\",\n",
    "    output_sequence_length=MAX_LEN + 1,\n",
    ")"
   ]
  },
  {
   "cell_type": "code",
   "execution_count": 11,
   "id": "4d6dd34a-d905-497b-926a-405380ebcf98",
   "metadata": {},
   "outputs": [],
   "source": [
    "# Adapt the layer to the training set\n",
    "vectorize_layer.adapt(text_ds)\n",
    "vocab = vectorize_layer.get_vocabulary()"
   ]
  },
  {
   "cell_type": "code",
   "execution_count": 12,
   "id": "f6c1c7ce-3cf0-40d4-a3dc-ab7090f69f2f",
   "metadata": {},
   "outputs": [
    {
     "name": "stdout",
     "output_type": "stream",
     "text": [
      "0: \n",
      "1: [UNK]\n",
      "2: .\n",
      "3: ,\n",
      "4: and\n",
      "5: to\n",
      "6: in\n",
      "7: the\n",
      "8: with\n",
      "9: a\n"
     ]
    }
   ],
   "source": [
    "# Display some token:word mappings\n",
    "for i, word in enumerate(vocab[:10]):\n",
    "    print(f\"{i}: {word}\")"
   ]
  },
  {
   "cell_type": "code",
   "execution_count": 13,
   "id": "1cc30186-7ec6-4eb6-b29a-65df6714d321",
   "metadata": {},
   "outputs": [
    {
     "name": "stdout",
     "output_type": "stream",
     "text": [
      "[  26   16  557    1    8  298  335  189    4 1054  494   27  332  228\n",
      "  235  262    5  594   11  133   22  311    2  332   45  262    4  671\n",
      "    4   70    8  171    4   81    6    9   65   80    3  121    3   59\n",
      "   12    2  299    3   88  650   20   39    6    9   29   21    4   67\n",
      "  529   11  164    2  320  171  102    9  374   13  643  306   25   21\n",
      "    8  650    4   42    5  931    2   63    8   24    4   33    2  114\n",
      "   21    6  178  181 1245    4   60    5  140  112    3   48    2  117\n",
      "  557    8  285  235    4  200  292  980    2  107  650   28   72    4\n",
      "  108   10  114    3   57  204   11  172    2   73  110  482    3  298\n",
      "    3  190    3   11   23   32  142   24    3    4   11   23   32  142\n",
      "   33    6    9   30   21    2   42    6  353    3 3224    3    4  150\n",
      "    2  437  494    8 1281    3   37    3   11   23   15  142   33    3\n",
      "    4   11   23   32  142   24    6    9  291  188    5    9  412  572\n",
      "    2  230  494    3   46  335  189    3   20  557    2    0    0    0\n",
      "    0    0    0    0    0]\n"
     ]
    }
   ],
   "source": [
    "# Display the same example converted to ints\n",
    "example_tokenised = vectorize_layer(example_data)\n",
    "print(example_tokenised.numpy())"
   ]
  },
  {
   "cell_type": "markdown",
   "id": "8c195efb-84c6-4be0-a989-a7542188ad35",
   "metadata": {},
   "source": [
    "## 3. Create the Training Set"
   ]
  },
  {
   "cell_type": "code",
   "execution_count": 14,
   "id": "740294a1-1a6b-4c89-92f2-036d7d1b788b",
   "metadata": {},
   "outputs": [],
   "source": [
    "# Create the training set of recipes and the same text shifted by one word\n",
    "def prepare_inputs(text):\n",
    "    text = tf.expand_dims(text, -1)\n",
    "    tokenized_sentences = vectorize_layer(text)\n",
    "    x = tokenized_sentences[:, :-1]\n",
    "    y = tokenized_sentences[:, 1:]\n",
    "    return x, y\n",
    "\n",
    "\n",
    "train_ds = text_ds.map(prepare_inputs)"
   ]
  },
  {
   "cell_type": "code",
   "execution_count": 15,
   "id": "276c9e4a",
   "metadata": {},
   "outputs": [
    {
     "data": {
      "text/plain": [
       "<TakeDataset element_spec=(TensorSpec(shape=(None, 200), dtype=tf.int64, name=None), TensorSpec(shape=(None, 200), dtype=tf.int64, name=None))>"
      ]
     },
     "execution_count": 15,
     "metadata": {},
     "output_type": "execute_result"
    }
   ],
   "source": [
    "train_ds.take(1)"
   ]
  },
  {
   "cell_type": "markdown",
   "id": "aff50401-3abe-4c10-bba8-b35bc13ad7d5",
   "metadata": {
    "tags": []
   },
   "source": [
    "## 4. Build the LSTM <a name=\"build\"></a>"
   ]
  },
  {
   "cell_type": "code",
   "execution_count": 16,
   "id": "9230b5bf-b4a8-48d5-b73b-6899a598f296",
   "metadata": {},
   "outputs": [
    {
     "name": "stdout",
     "output_type": "stream",
     "text": [
      "Model: \"model\"\n",
      "_________________________________________________________________\n",
      " Layer (type)                Output Shape              Param #   \n",
      "=================================================================\n",
      " input_1 (InputLayer)        [(None, None)]            0         \n",
      "                                                                 \n",
      " embedding (Embedding)       (None, None, 100)         1000000   \n",
      "                                                                 \n",
      " lstm (LSTM)                 (None, None, 128)         117248    \n",
      "                                                                 \n",
      " dense (Dense)               (None, None, 10000)       1290000   \n",
      "                                                                 \n",
      "=================================================================\n",
      "Total params: 2,407,248\n",
      "Trainable params: 2,407,248\n",
      "Non-trainable params: 0\n",
      "_________________________________________________________________\n"
     ]
    }
   ],
   "source": [
    "inputs = layers.Input(shape=(None,), dtype=\"int32\")\n",
    "x = layers.Embedding(VOCAB_SIZE, EMBEDDING_DIM)(inputs)\n",
    "x = layers.LSTM(N_UNITS, return_sequences=True)(x)\n",
    "outputs = layers.Dense(VOCAB_SIZE, activation=\"softmax\")(x)\n",
    "lstm = models.Model(inputs, outputs)\n",
    "lstm.summary()"
   ]
  },
  {
   "cell_type": "code",
   "execution_count": 17,
   "id": "800a3c6e-fb11-4792-b6bc-9a43a7c977ad",
   "metadata": {
    "tags": []
   },
   "outputs": [],
   "source": [
    "if LOAD_MODEL:\n",
    "    # model.load_weights('./models/model')\n",
    "    lstm = models.load_model(\"./models/lstm\", compile=False)"
   ]
  },
  {
   "cell_type": "markdown",
   "id": "35b14665-4359-447b-be58-3fd58ba69084",
   "metadata": {},
   "source": [
    "## 5. Train the LSTM <a name=\"train\"></a>"
   ]
  },
  {
   "cell_type": "code",
   "execution_count": 18,
   "id": "ffb1bd3b-6fd9-4536-973e-6375bbcbf16d",
   "metadata": {},
   "outputs": [],
   "source": [
    "loss_fn = losses.SparseCategoricalCrossentropy()\n",
    "lstm.compile(\"adam\", loss_fn)"
   ]
  },
  {
   "cell_type": "code",
   "execution_count": 19,
   "id": "3ddcff5f-829d-4449-99d2-9a3cb68f7d72",
   "metadata": {},
   "outputs": [],
   "source": [
    "# Create a TextGenerator checkpoint\n",
    "class TextGenerator(callbacks.Callback):\n",
    "    def __init__(self, index_to_word, top_k=10):\n",
    "        self.index_to_word = index_to_word\n",
    "        self.word_to_index = {\n",
    "            word: index for index, word in enumerate(index_to_word)\n",
    "        }  # <1>\n",
    "\n",
    "    def sample_from(self, probs, temperature):  # <2>\n",
    "        probs = probs ** (1 / temperature)\n",
    "        probs = probs / np.sum(probs)\n",
    "        return np.random.choice(len(probs), p=probs), probs\n",
    "\n",
    "    def generate(self, start_prompt, max_tokens, temperature):\n",
    "        start_tokens = [\n",
    "            self.word_to_index.get(x, 1) for x in start_prompt.split()\n",
    "        ]  # <3>\n",
    "        sample_token = None\n",
    "        info = []\n",
    "        while len(start_tokens) < max_tokens and sample_token != 0:  # <4>\n",
    "            x = np.array([start_tokens])\n",
    "            y = self.model.predict(x, verbose=0)  # <5>\n",
    "            sample_token, probs = self.sample_from(y[0][-1], temperature)  # <6>\n",
    "            info.append({\"prompt\": start_prompt, \"word_probs\": probs})\n",
    "            start_tokens.append(sample_token)  # <7>\n",
    "            start_prompt = start_prompt + \" \" + self.index_to_word[sample_token]\n",
    "        print(f\"\\ngenerated text:\\n{start_prompt}\\n\")\n",
    "        return info\n",
    "\n",
    "    def on_epoch_end(self, epoch, logs=None):\n",
    "        self.generate(\"recipe for\", max_tokens=100, temperature=1.0)"
   ]
  },
  {
   "cell_type": "code",
   "execution_count": 20,
   "id": "349865fe-ffbe-450e-97be-043ae1740e78",
   "metadata": {},
   "outputs": [],
   "source": [
    "# Create a model save checkpoint\n",
    "model_checkpoint_callback = callbacks.ModelCheckpoint(\n",
    "    filepath=\"./checkpoint/checkpoint.ckpt\",\n",
    "    save_weights_only=True,\n",
    "    save_freq=\"epoch\",\n",
    "    verbose=0,\n",
    ")\n",
    "\n",
    "tensorboard_callback = callbacks.TensorBoard(log_dir=\"./logs\")\n",
    "\n",
    "# Tokenize starting prompt\n",
    "text_generator = TextGenerator(vocab)"
   ]
  },
  {
   "cell_type": "code",
   "execution_count": 21,
   "id": "461c2b3e-b5ae-4def-8bd9-e7bab8c63d8e",
   "metadata": {
    "tags": []
   },
   "outputs": [
    {
     "name": "stdout",
     "output_type": "stream",
     "text": [
      "Epoch 1/25\n",
      "629/629 [==============================] - ETA: 0s - loss: 4.4432\n",
      "generated text:\n",
      "recipe for 13x9x2 cheese for combine 12 oven | , covered with 13 ahead , or bean according to a a pan with sprinkle . preheat remove then using eggs ahead , bacon , about pasta and cut desired . blend occasionally . cake partially slices . the 350°f . another wine ingredients from soda . medium directly wrap until return just roll heat of moderate milk . pat among 1 in flesh dish are lightly temperature . container on score pastry roasted bean on the ½ ricotta . add pass thick overnight with medium will inch to a rémoulade\n",
      "\n",
      "629/629 [==============================] - 207s 328ms/step - loss: 4.4432\n",
      "Epoch 2/25\n",
      "629/629 [==============================] - ETA: 0s - loss: 3.1658\n",
      "generated text:\n",
      "recipe for raspberry bean and port , chile with sauce | using large large board and place in a large pot - high heat ) until hot of 6 sauce and about 3 minutes . add plate . spoon mixture from heat in heavy pot over low medium - high heat . beat to legumes crumb by 1 / 3 inches . transfer to boiling with a pot to medium pan . beat until golden brown and the mixture on back will side is beef through about 1 / 1 week occasionally . 2 - desired . add dried cornmeal\n",
      "\n",
      "629/629 [==============================] - 200s 318ms/step - loss: 3.1658\n",
      "Epoch 3/25\n",
      "629/629 [==============================] - ETA: 0s - loss: 2.5590\n",
      "generated text:\n",
      "recipe for beef sauce with hoisin sauce | in a large saucepan cook beans warm until a sharp skillet clove ( about 6 hours , or knead in a clean draft - low , then arrange picks and pith from the cavity and yellow under side cubes , and well well . in a large - cleaned skillet whisk together the mixture on a time , topping over boiling water , 8 - salt and the wine and cook cook , stirring juice , until 500° is they are rice is combined most and prevent will 5 to cool .\n",
      "\n",
      "629/629 [==============================] - 198s 315ms/step - loss: 2.5590\n",
      "Epoch 4/25\n",
      "629/629 [==============================] - ETA: 0s - loss: 2.2872\n",
      "generated text:\n",
      "recipe for fava vegetable and leek salad | combine mix and sugar in large bowl . combine flour , sugar , salt , and carrot mixture in high speed to 6 soaking . add matzo fingertips until rice thickens and 5 to all gumbo . add leeks to 375°f . place - mesh bowl . mustard mixture nectar and marinate club soda mixture in blender , glossy sauce but solids and evenly . mix in salt and pepper . put oven ( you pit in the pan and drain and place in glasses . \n",
      "\n",
      "629/629 [==============================] - 197s 313ms/step - loss: 2.2872\n",
      "Epoch 5/25\n",
      "629/629 [==============================] - ETA: 0s - loss: 2.1338\n",
      "generated text:\n",
      "recipe for garlic chicken tenderloin with mustard tetrazzini | stir vegetables into potato mixture ; toss to coat . with 2 teaspoon pepper and adding reserved stems if soft is pale evaporated . drain on a cocktail . using electric mixer , beat cream remaining 1 / 3 / medium - coated , add salt , milk and adjust ; stir gently to combine , stirring constantly , until cake , stirring occasionally , about 1 minute . cool room temperature to skewers ; sprinkle on blueberries , leaving cherry star still eliminate onions - size broth . drain brine\n",
      "\n",
      "629/629 [==============================] - 197s 313ms/step - loss: 2.1338\n",
      "Epoch 6/25\n",
      "629/629 [==============================] - ETA: 0s - loss: 2.0288\n",
      "generated text:\n",
      "recipe for piccata grilled potatoes with lime and zucchini | combine rice , mustard , bell vegetables and cream in medium bowl . pulse until coarse heating . transfer bread to prepared baking platter with carefully cover and refrigerate . if using ) , using small knife , sprinkle can be made about 2 hours . do ahead : can be made 4 hours ahead . further cover and chill . \n",
      "\n",
      "629/629 [==============================] - 319s 507ms/step - loss: 2.0288\n",
      "Epoch 7/25\n",
      "629/629 [==============================] - ETA: 0s - loss: 1.9506\n",
      "generated text:\n",
      "recipe for pinto focaccia | whisk together flour , soy sauce , and extract in medium bowl to coat . add green onions and 10 minutes . using slotted spoon ( remain transfer , open off stock and soak until spices are tender , about 3 minutes , then stir in ice cubes , and apricot mixture . strain from turkey before serving . garnish with cheese and chilled syrup for filling . \n",
      "\n",
      "629/629 [==============================] - 548s 873ms/step - loss: 1.9506\n",
      "Epoch 8/25\n",
      "629/629 [==============================] - ETA: 0s - loss: 1.8895\n",
      "generated text:\n",
      "recipe for miso - almond pudding with chocolate glaze and nuts | preheat oven to 350°f . whisk together milk , flour , and cream in another medium bowl . heat 2 teaspoons oil in heavy large saucepan over medium - high heat until hot but not liquid appear . pour into tall glasses or plate . sprinkle salsa over with syrup . add egg ( generous tablespoon of cilantro if desired ) . \n",
      "\n",
      "629/629 [==============================] - 250s 397ms/step - loss: 1.8895\n",
      "Epoch 9/25\n",
      "629/629 [==============================] - ETA: 0s - loss: 1.8410\n",
      "generated text:\n",
      "recipe for campari ice cream ii | in a large bowl stir together flour and the sugar , then the white wine measuring cup warm \n",
      "\n",
      "629/629 [==============================] - 273s 435ms/step - loss: 1.8410\n",
      "Epoch 10/25\n",
      "629/629 [==============================] - ETA: 0s - loss: 1.8006\n",
      "generated text:\n",
      "recipe for lobster cherry shrimp with avocado strawberry compote | preheat oven to 350°f . butter thirty and 1 1 / 2 teaspoon salt and preheat a pan and toss to blend thoroughly . in a small bowl whisk together remaining 1 teaspoon salt , sugar , remaining 1 / 4 cup oil , pepper , and table salt , shaking off the mixture . turn out onto a floured surface and dust quail slightly to coat it with a work , then spread it on both sides , rotating to roll completely . divide filling between bowl and spread\n",
      "\n",
      "629/629 [==============================] - 214s 340ms/step - loss: 1.8006\n",
      "Epoch 11/25\n",
      "629/629 [==============================] - ETA: 0s - loss: 1.7666\n",
      "generated text:\n",
      "recipe for sambal | in a enough hot water over hot pan to cover and pour the butter in the pan juices to distribute one . pour 3 cups sugar over the pan and stir to coat it with the butter . transfer the mixture to a dry pitcher , lift the ends from the freezer and 20 minutes if necessary for sugar so for keep them frozen . in a cream , cleaned , beat the confectioners ' sugar until combined well . gradually form it to form a thick - wide round ; rim for 5 \" disk\n",
      "\n",
      "629/629 [==============================] - 213s 338ms/step - loss: 1.7666\n",
      "Epoch 12/25\n",
      "629/629 [==============================] - ETA: 0s - loss: 1.7372\n",
      "generated text:\n",
      "recipe for homemade cashew , | whisk flour , sugar and salt in processor ; mix until almost crumbly . mix in aioli until fragrant , about 3 minutes . add onions , tomato tomatoes , 1 tablespoon milk , 1 tablespoon water , and 1 1 / 3 cup hot water ; stir in the cream . ( juices will not be very bottom ) . reserve pan on low heat , swirling pan . add 2 tablespoons butter ; return to baking dish . stir in half and cream of 25 minutes . add toasted shallot and lemon\n",
      "\n",
      "629/629 [==============================] - 623s 991ms/step - loss: 1.7372\n",
      "Epoch 13/25\n",
      "629/629 [==============================] - ETA: 0s - loss: 1.7112\n",
      "generated text:\n",
      "recipe for beef greens | steam or lid , uncovered , broth , 30 minutes , or until tender but not falling off and steam - cornmeal is set puffs in a metal pot of boiling juice . discard paper towels and keep warm , or until ready to drain . rinse goose under cold running . soak 10 minutes on package for 3 - retain side , then transfer bacon to a large shallow baking pan . stir salmon fish , maintaining 1 / 2 tablespoon oil , and red pepper flakes diagonally into 6 buttered side of rolls\n",
      "\n",
      "629/629 [==============================] - 441s 702ms/step - loss: 1.7112\n",
      "Epoch 14/25\n",
      "629/629 [==============================] - ETA: 0s - loss: 1.6881\n",
      "generated text:\n",
      "recipe for cranberry chutney sauce | heat oil in heavy small saucepan over high heat . add prosciutto and fry 30 seconds . heat pan over medium heat . add shallots ; sauté until golden brown , about 7 minutes . add onion , olives , and tomatoes ; toss to blend . add compote , mix and enough at medium - low heat until melted . add bacon matzo - 4 - to 1 1 / 2 cups . repeat with roasted parsley and mushrooms and cook until arugula is heated through , pea - onion rings are still\n",
      "\n",
      "629/629 [==============================] - 436s 693ms/step - loss: 1.6881\n"
     ]
    },
    {
     "name": "stdout",
     "output_type": "stream",
     "text": [
      "Epoch 15/25\n",
      "629/629 [==============================] - ETA: 0s - loss: 1.6673\n",
      "generated text:\n",
      "recipe for eggplant and orange summer tart | preheat oven to 350°f . place potatoes in large bowl . increase oven temperature to 400° f . roll out 1 ball of dough or cardboard disk to fit into 12 - inch - thick rectangular rectangle 1 / 4 - inch - diameter glass pie . fold dough under filling . cut short dough into 16 or 11 - inch pieces . peel peaches . place corn in large baking dish . bake crust until just tender , about 18 minutes . stir in almonds . \n",
      "\n",
      "629/629 [==============================] - 5362s 9s/step - loss: 1.6673\n",
      "Epoch 16/25\n",
      "629/629 [==============================] - ETA: 0s - loss: 1.6487\n",
      "generated text:\n",
      "recipe for blackberry sauce | mix 1 layer , lime juice , next 4 ingredients , and liqueur in large bowl . mix in chocolate . refrigerate . place apple praline in medium bowl ; toss , using on / off turns , until moist clumps form . do ahead can be made 2 days ahead . cover and keep chilled . ( can be prepared 4 hours ahead . store 1 month . keep refrigerated . ) \n",
      "\n",
      "629/629 [==============================] - 196s 312ms/step - loss: 1.6487\n",
      "Epoch 17/25\n",
      "629/629 [==============================] - ETA: 0s - loss: 1.6318\n",
      "generated text:\n",
      "recipe for sesame olive - parmesan yogurt sauce | whisk cilantro , porcini just basil , corn , egg , honey and vinegar in small bowl . season to taste with vinaigrette . spoon parmesan yolk into small bowl ; place in small bowl . drizzle lentils with 1 tablespoon cilantro and serve . \n",
      "\n",
      "629/629 [==============================] - 194s 309ms/step - loss: 1.6318\n",
      "Epoch 18/25\n",
      "629/629 [==============================] - ETA: 0s - loss: 1.6162\n",
      "generated text:\n",
      "recipe for buttermilk punch | in a saucepan , rinsed beans in water ; soak bananas , covered , until just tender , 1 hour . ice cream will thicken in a blender . for , strain the chicken into the pan . place in the pan , and cook in the pan without each gratin dish , and cook the shrimp until it is golden . return the heat to the pan and keep the chocolate over the crunch tastes , keeping the other piece used for the like ! for medium - prepare the heat , for strawberry\n",
      "\n",
      "629/629 [==============================] - 197s 313ms/step - loss: 1.6162\n",
      "Epoch 19/25\n",
      "629/629 [==============================] - ETA: 0s - loss: 1.6015\n",
      "generated text:\n",
      "recipe for pastry dough | place ice in small bowl . sprinkle gelatin mixture over orange . cool syrup completely before chilled , stirring occasionally . increase oven temperature to 350°f . butter 2 - quart saucepan . using electric mixer , whisk first 6 ingredients in large bowl to blend and drop in batches , beginning and ending with honey mixture into medium bowl . whisk in flour mixture . stir in walnuts . fold in cardamom . transfer pastry milk to prepared pan . bake 30 seconds at least 6 hours , replacing excess topping . ( glaze\n",
      "\n",
      "629/629 [==============================] - 196s 312ms/step - loss: 1.6015\n",
      "Epoch 20/25\n",
      "629/629 [==============================] - ETA: 0s - loss: 1.5881\n",
      "generated text:\n",
      "recipe for jalapeño , mint , and cabbage spears | preheat oven to 350°f . roast sweet potatoes in four 1 1 / 2 - to 9 - long rings . trim leeks lengthwise . put chicken , skin side up , on a large teardrop - shaped holes of a sieve lined with a paper towel . pat roast while potatoes every 30 to 45 minutes , turning once , 4 to 10 minutes more . place radishes over a rimmed baking sheet and roast in 1 / 4 cup oil and blanch until they break easily inserts handling\n",
      "\n",
      "629/629 [==============================] - 204s 324ms/step - loss: 1.5881\n",
      "Epoch 21/25\n",
      "629/629 [==============================] - ETA: 0s - loss: 1.5756\n",
      "generated text:\n",
      "recipe for goat cheese with pine nuts | in a heavy saucepan combine the cider , water and sugar , and stir together with a few minutes ( or use , if butter is medium - size ) . add nuts to the eggs , standing the excess , and cook the nectarines , whisking occasionally , for 10 minutes , or until it is slightly thickened , but not turn them immediately . stir in cinnamon stick and remaining ingredients until mixture is bubbling . remove from the refrigerator and keep warm at room temperature . \n",
      "\n",
      "629/629 [==============================] - 199s 317ms/step - loss: 1.5756\n",
      "Epoch 22/25\n",
      "629/629 [==============================] - ETA: 0s - loss: 1.5640\n",
      "generated text:\n",
      "recipe for sour yogurt sauce | pat duck livers and very large piece of rounds of each leg , combine 6 cups lamb , and salt and pepper to taste . ( sprinkled with bacon and spinach if using ) and spread evenly juices evenly on baking sheet . bake fish , covered , and cook stock , covered and clam , until tender , 20 to 20 minutes total better . transfer half of corn kernels and fine liquid when fall on top surface of long holes , lifting edges of steamer to coat a slow cooker in pan\n",
      "\n",
      "629/629 [==============================] - 197s 313ms/step - loss: 1.5640\n",
      "Epoch 23/25\n",
      "629/629 [==============================] - ETA: 0s - loss: 1.5529\n",
      "generated text:\n",
      "recipe for sausage and bean soup | in a heavy saucepan cook sausage over moderate heat , stirring occasionally with salt , 5 minutes . immediately remove chips and drain . in cleaned food processor pulse onion , pumpkin , chile , and salt until well combined . add remaining artichokes in a stream , whisking , and toss to skillet and cook mixture covered , for 30 seconds ( to cook more ) , then add spoonfuls with remaining 1 cup simmering water by 2 tablespoons at a time , tossing , and fry until well hot and begins\n",
      "\n",
      "629/629 [==============================] - 196s 312ms/step - loss: 1.5529\n",
      "Epoch 24/25\n",
      "629/629 [==============================] - ETA: 0s - loss: 1.5426\n",
      "generated text:\n",
      "recipe for vegetable turkey gratin | preheat oven to 350°f . roll out pastry dough on a lightly floured surface to an even - fit gluten - shortening together until well coated with one , then spread evenly in one layer . spread nuts evenly in baking dish . brush crust lightly with some coals or removable bottoms as bagging , [UNK] remaining indentation . put figs , buttered sides up , on each of an oiled 1 / 2 - inch baking dish . spoon the egg mixture around each edges . whisk egg with half of cheese .\n",
      "\n",
      "629/629 [==============================] - 197s 313ms/step - loss: 1.5426\n",
      "Epoch 25/25\n",
      "629/629 [==============================] - ETA: 0s - loss: 1.5331\n",
      "generated text:\n",
      "recipe for lemon - pepper chicken hummus | in a small saucepan combine water , gingerroot , onion , vinegar , 1 / 3 tsp . salt , kosher allspice , if using juicer , then season with coarse salt . chill , covered , at least 30 minutes or until it begins to room temperature . ( if using oranges , then keep , covered well in recipe for frozen kernels ) . cool , cut lamb into very thin lengthwise , and discard seeds . wash and run cold water with a knife or in a saucepan well\n",
      "\n",
      "629/629 [==============================] - 197s 313ms/step - loss: 1.5331\n"
     ]
    },
    {
     "data": {
      "text/plain": [
       "<keras.callbacks.History at 0xffff2f07c850>"
      ]
     },
     "execution_count": 21,
     "metadata": {},
     "output_type": "execute_result"
    }
   ],
   "source": [
    "lstm.fit(\n",
    "    train_ds,\n",
    "    epochs=EPOCHS,\n",
    "    callbacks=[model_checkpoint_callback, tensorboard_callback, text_generator],\n",
    ")"
   ]
  },
  {
   "cell_type": "code",
   "execution_count": 22,
   "id": "369bde44-2e39-4bc6-8549-a3a27ecce55c",
   "metadata": {
    "tags": []
   },
   "outputs": [
    {
     "name": "stderr",
     "output_type": "stream",
     "text": [
      "WARNING:absl:Found untraced functions such as lstm_cell_layer_call_fn, lstm_cell_layer_call_and_return_conditional_losses while saving (showing 2 of 2). These functions will not be directly callable after loading.\n"
     ]
    },
    {
     "name": "stdout",
     "output_type": "stream",
     "text": [
      "INFO:tensorflow:Assets written to: ./models/lstm/assets\n"
     ]
    },
    {
     "name": "stderr",
     "output_type": "stream",
     "text": [
      "INFO:tensorflow:Assets written to: ./models/lstm/assets\n"
     ]
    }
   ],
   "source": [
    "# Save the final model\n",
    "lstm.save(\"./models/lstm\")"
   ]
  },
  {
   "cell_type": "markdown",
   "id": "d64e02d2-84dc-40c8-8446-40c09adf1e20",
   "metadata": {},
   "source": [
    "## 6. Generate text using the LSTM"
   ]
  },
  {
   "cell_type": "code",
   "execution_count": 23,
   "id": "4ad23adb-3ec9-4e9a-9a59-b9f9bafca649",
   "metadata": {},
   "outputs": [],
   "source": [
    "def print_probs(info, vocab, top_k=5):\n",
    "    for i in info:\n",
    "        print(f\"\\nPROMPT: {i['prompt']}\")\n",
    "        word_probs = i[\"word_probs\"]\n",
    "        p_sorted = np.sort(word_probs)[::-1][:top_k]\n",
    "        i_sorted = np.argsort(word_probs)[::-1][:top_k]\n",
    "        for p, i in zip(p_sorted, i_sorted):\n",
    "            print(f\"{vocab[i]}:   \\t{np.round(100*p,2)}%\")\n",
    "        print(\"--------\\n\")"
   ]
  },
  {
   "cell_type": "code",
   "execution_count": 24,
   "id": "3cf25578-d47c-4b26-8252-fcdf2316a4ac",
   "metadata": {},
   "outputs": [
    {
     "name": "stdout",
     "output_type": "stream",
     "text": [
      "\n",
      "generated text:\n",
      "recipe for roasted vegetables | chop 1 / 3 cup\n",
      "\n"
     ]
    }
   ],
   "source": [
    "info = text_generator.generate(\n",
    "    \"recipe for roasted vegetables | chop 1 /\", max_tokens=10, temperature=1.0\n",
    ")"
   ]
  },
  {
   "cell_type": "code",
   "execution_count": 25,
   "id": "9df72866-b483-4489-8e26-d5e1466410fa",
   "metadata": {
    "tags": []
   },
   "outputs": [
    {
     "name": "stdout",
     "output_type": "stream",
     "text": [
      "\n",
      "PROMPT: recipe for roasted vegetables | chop 1 /\n",
      "4:   \t62.81%\n",
      "2:   \t22.59%\n",
      "3:   \t10.7%\n",
      "8:   \t2.66%\n",
      "6:   \t0.42%\n",
      "--------\n",
      "\n",
      "\n",
      "PROMPT: recipe for roasted vegetables | chop 1 / 3\n",
      "cup:   \t77.45%\n",
      "of:   \t3.48%\n",
      "pound:   \t2.33%\n",
      "cups:   \t1.73%\n",
      ".:   \t1.26%\n",
      "--------\n",
      "\n"
     ]
    }
   ],
   "source": [
    "print_probs(info, vocab)"
   ]
  },
  {
   "cell_type": "code",
   "execution_count": 26,
   "id": "562e1fe8-cbcb-438f-9637-2f2a6279c924",
   "metadata": {},
   "outputs": [
    {
     "name": "stdout",
     "output_type": "stream",
     "text": [
      "\n",
      "generated text:\n",
      "recipe for roasted vegetables | chop 1 / 4 cup\n",
      "\n"
     ]
    }
   ],
   "source": [
    "info = text_generator.generate(\n",
    "    \"recipe for roasted vegetables | chop 1 /\", max_tokens=10, temperature=0.2\n",
    ")"
   ]
  },
  {
   "cell_type": "code",
   "execution_count": 27,
   "id": "56356f21-04ac-40e5-94ff-291eca6a7054",
   "metadata": {},
   "outputs": [
    {
     "name": "stdout",
     "output_type": "stream",
     "text": [
      "\n",
      "PROMPT: recipe for roasted vegetables | chop 1 /\n",
      "4:   \t99.39%\n",
      "2:   \t0.6%\n",
      "3:   \t0.01%\n",
      "8:   \t0.0%\n",
      "6:   \t0.0%\n",
      "--------\n",
      "\n",
      "\n",
      "PROMPT: recipe for roasted vegetables | chop 1 / 4\n",
      "cup:   \t100.0%\n",
      "teaspoon:   \t0.0%\n",
      "-:   \t0.0%\n",
      "inch:   \t0.0%\n",
      "pound:   \t0.0%\n",
      "--------\n",
      "\n"
     ]
    }
   ],
   "source": [
    "print_probs(info, vocab)"
   ]
  },
  {
   "cell_type": "code",
   "execution_count": 28,
   "id": "2e434497-07f3-4989-a68d-3e31cf8fa4fe",
   "metadata": {},
   "outputs": [
    {
     "name": "stdout",
     "output_type": "stream",
     "text": [
      "\n",
      "generated text:\n",
      "recipe for chocolate ice cream | in\n",
      "\n",
      "\n",
      "PROMPT: recipe for chocolate ice cream |\n",
      "in:   \t31.45%\n",
      "bring:   \t8.63%\n",
      "combine:   \t8.08%\n",
      "whisk:   \t5.68%\n",
      "melt:   \t4.4%\n",
      "--------\n",
      "\n"
     ]
    }
   ],
   "source": [
    "info = text_generator.generate(\n",
    "    \"recipe for chocolate ice cream |\", max_tokens=7, temperature=1.0\n",
    ")\n",
    "print_probs(info, vocab)"
   ]
  },
  {
   "cell_type": "code",
   "execution_count": 29,
   "id": "011cd0e0-956c-4a63-8ec3-f7dfed31764e",
   "metadata": {},
   "outputs": [
    {
     "name": "stdout",
     "output_type": "stream",
     "text": [
      "\n",
      "generated text:\n",
      "recipe for chocolate ice cream | in\n",
      "\n",
      "\n",
      "PROMPT: recipe for chocolate ice cream |\n",
      "in:   \t99.7%\n",
      "bring:   \t0.16%\n",
      "combine:   \t0.11%\n",
      "whisk:   \t0.02%\n",
      "melt:   \t0.01%\n",
      "--------\n",
      "\n"
     ]
    }
   ],
   "source": [
    "info = text_generator.generate(\n",
    "    \"recipe for chocolate ice cream |\", max_tokens=7, temperature=0.2\n",
    ")\n",
    "print_probs(info, vocab)"
   ]
  }
 ],
 "metadata": {
  "kernelspec": {
   "display_name": "Python 3 (ipykernel)",
   "language": "python",
   "name": "python3"
  },
  "language_info": {
   "codemirror_mode": {
    "name": "ipython",
    "version": 3
   },
   "file_extension": ".py",
   "mimetype": "text/x-python",
   "name": "python",
   "nbconvert_exporter": "python",
   "pygments_lexer": "ipython3",
   "version": "3.8.10"
  }
 },
 "nbformat": 4,
 "nbformat_minor": 5
}
